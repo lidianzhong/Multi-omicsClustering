{
 "cells": [
  {
   "cell_type": "markdown",
   "metadata": {},
   "source": [
    "## 1. 数据预处理\n",
    "\n",
    "### 1.1 数据加载"
   ]
  },
  {
   "cell_type": "code",
   "execution_count": 44,
   "metadata": {},
   "outputs": [],
   "source": [
    "import pandas as pd\n",
    "\n",
    "# 选取 gene_expression, DNA methylation(450k), miRNA expression 数据\n",
    "gene_expression_raw_data = pd.read_csv('data/gene_expression/batch_effects_normalized_mRNA_data', sep='\\t', index_col=0)\n",
    "dna_methylation_27k_raw_data = pd.read_csv('data/DNA_methylation/DNA_methylation_27k', sep='\\t', index_col=0)\n",
    "dna_methylation_450k_raw_data = pd.read_csv('data/DNA_methylation/DNA_methylation_450k', sep='\\t', index_col=0)\n",
    "miRNA_expression_raw_data = pd.read_csv('data/miRNA_expression/batch_effects_normalized_miRNA_data', sep='\\t', index_col=0)"
   ]
  },
  {
   "cell_type": "markdown",
   "metadata": {},
   "source": [
    "### 1.2 数据清洗"
   ]
  },
  {
   "cell_type": "code",
   "execution_count": 67,
   "metadata": {},
   "outputs": [],
   "source": [
    "# 定义清理函数\n",
    "def clean_data(data):\n",
    "    data = data.dropna(axis=1, thresh=0.7*data.shape[0])\n",
    "    data = data.apply(lambda row: row.fillna(row.mean()), axis=1)\n",
    "    data = data.fillna(0)\n",
    "    return data\n",
    "\n",
    "# 清理每种数据\n",
    "gene_expression_data = clean_data(gene_expression_raw_data)\n",
    "dna_methylation_27k_data = clean_data(dna_methylation_27k_raw_data)\n",
    "dna_methylation_450k_data = clean_data(dna_methylation_450k_raw_data)\n",
    "miRNA_expression_data = clean_data(miRNA_expression_raw_data)"
   ]
  },
  {
   "cell_type": "code",
   "execution_count": 92,
   "metadata": {},
   "outputs": [
    {
     "name": "stdout",
     "output_type": "stream",
     "text": [
      "Gene Expression Data contains NaN: False\n",
      "DNA Methylation 27K Data contains NaN: False\n",
      "DNA Methylation 450K Data contains NaN: False\n",
      "miRNA Expression Data contains NaN: False\n"
     ]
    }
   ],
   "source": [
    "# 检查是否包含NaN值\n",
    "print(\"Gene Expression Data contains NaN:\", gene_expression_data.isnull().values.any())\n",
    "print(\"DNA Methylation 27K Data contains NaN:\", dna_methylation_27k_data.isnull().values.any())\n",
    "print(\"DNA Methylation 450K Data contains NaN:\", dna_methylation_450k_data.isnull().values.any())\n",
    "print(\"miRNA Expression Data contains NaN:\", miRNA_expression_data.isnull().values.any())"
   ]
  },
  {
   "cell_type": "markdown",
   "metadata": {},
   "source": [
    "### 1.3 数据标准化"
   ]
  },
  {
   "cell_type": "markdown",
   "metadata": {},
   "source": [
    "### 2.2 数据整合"
   ]
  },
  {
   "cell_type": "code",
   "execution_count": 93,
   "metadata": {},
   "outputs": [],
   "source": [
    "from sklearn.preprocessing import StandardScaler\n",
    "\n",
    "scaler = StandardScaler()\n",
    "\n",
    "gene_expression_data_scaled = pd.DataFrame(scaler.fit_transform(gene_expression_data), \n",
    "                                           index=gene_expression_data.index, columns=gene_expression_data.columns)\n",
    "dna_methylation_27k_data_scaled = pd.DataFrame(scaler.fit_transform(dna_methylation_27k_data), \n",
    "                                       index=dna_methylation_27k_data.index, columns=dna_methylation_27k_data.columns)\n",
    "dna_methylation_450k_data_scaled = pd.DataFrame(scaler.fit_transform(dna_methylation_450k_data), \n",
    "                                       index=dna_methylation_450k_data.index, columns=dna_methylation_450k_data.columns)\n",
    "miRNA_expression_data_scaled = pd.DataFrame(scaler.fit_transform(miRNA_expression_data), \n",
    "                                              index=miRNA_expression_data.index, columns=miRNA_expression_data.columns)\n"
   ]
  },
  {
   "cell_type": "markdown",
   "metadata": {},
   "source": [
    "## 2. 数据整合\n",
    "\n",
    "### 2.1 样本匹配"
   ]
  },
  {
   "cell_type": "code",
   "execution_count": 94,
   "metadata": {},
   "outputs": [],
   "source": [
    "common_samples = set(gene_expression_data_scaled.columns) & \\\n",
    "                 set(dna_methylation_27k_data_scaled.columns) & \\\n",
    "                 set(dna_methylation_450k_data_scaled.columns) & \\\n",
    "                 set(miRNA_expression_data_scaled.columns)\n",
    "                 \n",
    "common_samples_list = list(common_samples)\n",
    "\n",
    "gene_expression_data_scaled = gene_expression_data_scaled[common_samples_list]\n",
    "dna_methylation_27k_data_scaled = dna_methylation_27k_data_scaled[common_samples_list]\n",
    "dna_methylation_450k_data_scaled = dna_methylation_450k_data_scaled[common_samples_list]\n",
    "miRNA_expression_data_scaled = miRNA_expression_data_scaled[common_samples_list]\n"
   ]
  },
  {
   "cell_type": "markdown",
   "metadata": {},
   "source": [
    "### 2.2 数据整合"
   ]
  },
  {
   "cell_type": "code",
   "execution_count": 95,
   "metadata": {},
   "outputs": [],
   "source": [
    "combined_data = pd.concat([gene_expression_data_scaled, \n",
    "                           dna_methylation_27k_data_scaled, \n",
    "                           dna_methylation_450k_data_scaled, \n",
    "                           miRNA_expression_data_scaled], axis=0)\n"
   ]
  },
  {
   "cell_type": "markdown",
   "metadata": {},
   "source": [
    "## 3. 聚类分析\n"
   ]
  },
  {
   "cell_type": "code",
   "execution_count": 99,
   "metadata": {},
   "outputs": [
    {
     "name": "stderr",
     "output_type": "stream",
     "text": [
      "/home/ldz/Documents/anaconda3/envs/cluster/lib/python3.8/site-packages/sklearn/cluster/_kmeans.py:1416: FutureWarning: The default value of `n_init` will change from 10 to 'auto' in 1.4. Set the value of `n_init` explicitly to suppress the warning\n",
      "  super()._check_params_vs_input(X, default_n_init=10)\n"
     ]
    }
   ],
   "source": [
    "from sklearn.cluster import KMeans\n",
    "\n",
    "kmeans = KMeans(n_clusters=5, random_state=42)\n",
    "clusters = kmeans.fit_predict(combined_data.T)\n",
    "\n",
    "# 将聚类结果添加到数据集中\n",
    "combined_data = combined_data.T\n",
    "combined_data['Cluster'] = clusters\n",
    "combined_data = combined_data.T\n"
   ]
  },
  {
   "cell_type": "markdown",
   "metadata": {},
   "source": [
    "## 4. 结果分析和可视化\n",
    "\n",
    "### 4.1 聚类结果分析"
   ]
  },
  {
   "cell_type": "code",
   "execution_count": 100,
   "metadata": {},
   "outputs": [
    {
     "name": "stdout",
     "output_type": "stream",
     "text": [
      "         100130426  100133144  100134869     10357     10431    136542  \\\n",
      "Cluster                                                                  \n",
      "0.0      -1.451602  -0.885348  -0.988872  0.633974  0.947122 -1.458568   \n",
      "1.0      -1.455277  -0.837203  -0.791055  0.692828  0.852618 -1.462259   \n",
      "2.0      -1.458408  -0.886612  -0.893663  0.631062  0.882157 -1.465399   \n",
      "3.0      -1.506316  -0.819925  -0.890271  0.635490  0.819681 -1.513384   \n",
      "4.0      -1.564835  -0.946843  -0.839149  0.190235  0.851951 -1.573466   \n",
      "\n",
      "           155060     26823    280660    317712  ...  hsa-miR-527  \\\n",
      "Cluster                                          ...                \n",
      "0.0      0.759424 -1.007028 -1.432896 -1.458353  ...    -0.836931   \n",
      "1.0      0.910705 -0.947766 -1.436528 -1.462043  ...    -0.875948   \n",
      "2.0      0.899615 -1.010817 -1.439635 -1.465183  ...    -0.849308   \n",
      "3.0      0.761235 -1.039294 -1.487337 -1.513166  ...    -0.896469   \n",
      "4.0      0.149932 -1.422451 -1.564259 -1.573389  ...    -0.814857   \n",
      "\n",
      "         hsa-miR-548x-3p  hsa-miR-5584-5p  hsa-miR-670-3p  hsa-miR-885-3p  \\\n",
      "Cluster                                                                     \n",
      "0.0            -0.836931        -0.306025       -0.836931       -0.836931   \n",
      "1.0            -0.875948        -0.231999       -0.875948       -0.875948   \n",
      "2.0            -0.849308        -0.275302       -0.849308       -0.838218   \n",
      "3.0            -0.907887        -0.398996       -0.907887       -0.907887   \n",
      "4.0            -0.807466        -0.805554       -0.814857       -0.806011   \n",
      "\n",
      "         hsa-miR-888-5p  hsa-miR-890  hsa-miR-891b  hsa-miR-892b  \\\n",
      "Cluster                                                            \n",
      "0.0           -0.836931    -0.836931     -0.836931     -0.836931   \n",
      "1.0           -0.875948    -0.875948     -0.875948     -0.875948   \n",
      "2.0           -0.849308    -0.849308     -0.849308     -0.849308   \n",
      "3.0           -0.907887    -0.907887     -0.901912     -0.907887   \n",
      "4.0           -0.639792    -0.721462     -0.642468     -0.684021   \n",
      "\n",
      "         hsa-miR-892c-3p  \n",
      "Cluster                   \n",
      "0.0            -0.836931  \n",
      "1.0            -0.875948  \n",
      "2.0            -0.849308  \n",
      "3.0            -0.907887  \n",
      "4.0            -0.701096  \n",
      "\n",
      "[5 rows x 85270 columns]\n"
     ]
    }
   ],
   "source": [
    "cluster_summary = combined_data.T.groupby('Cluster').mean()\n",
    "print(cluster_summary)\n"
   ]
  },
  {
   "cell_type": "markdown",
   "metadata": {},
   "source": [
    "### 4.2 聚类结果可视化"
   ]
  },
  {
   "cell_type": "code",
   "execution_count": 101,
   "metadata": {},
   "outputs": [
    {
     "data": {
      "image/png": "[encoded data removed]",
      "text/plain": [
       "<Figure size 640x480 with 1 Axes>"
      ]
     },
     "metadata": {},
     "output_type": "display_data"
    }
   ],
   "source": [
    "from sklearn.decomposition import PCA\n",
    "import matplotlib.pyplot as plt\n",
    "\n",
    "pca = PCA(n_components=2)\n",
    "pca_result = pca.fit_transform(combined_data.T.drop('Cluster', axis=1))\n",
    "\n",
    "plt.scatter(pca_result[:, 0], pca_result[:, 1], c=combined_data.T['Cluster'], cmap='viridis')\n",
    "plt.title('PCA of multi-omics data') \n",
    "plt.xlabel('PC1')\n",
    "plt.ylabel('PC2')\n",
    "plt.show()\n"
   ]
  },
  {
   "cell_type": "code",
   "execution_count": null,
   "metadata": {},
   "outputs": [],
   "source": []
  }
 ],
 "metadata": {
  "kernelspec": {
   "display_name": "Python 3",
   "language": "python",
   "name": "python3"
  },
  "language_info": {
   "codemirror_mode": {
    "name": "ipython",
    "version": 3
   },
   "file_extension": ".py",
   "mimetype": "text/x-python",
   "name": "python",
   "nbconvert_exporter": "python",
   "pygments_lexer": "ipython3",
   "version": "3.8.19"
  }
 },
 "nbformat": 4,
 "nbformat_minor": 2
}
